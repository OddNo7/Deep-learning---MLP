{
 "cells": [
  {
   "cell_type": "markdown",
   "metadata": {},
   "source": [
    "# ECBM E6040 Homework 2 - Programming Problem"
   ]
  },
  {
   "cell_type": "code",
   "execution_count": 15,
   "metadata": {
    "collapsed": false
   },
   "outputs": [],
   "source": [
    "%matplotlib inline\n",
    "import matplotlib as mlp\n",
    "mlp.use('agg')\n",
    "import matplotlib.pyplot as plt"
   ]
  },
  {
   "cell_type": "markdown",
   "metadata": {},
   "source": [
    "### Problem b: Bullet 2: Comparison between _tanh_ and _softmax_"
   ]
  },
  {
   "cell_type": "code",
   "execution_count": 1,
   "metadata": {
    "collapsed": false
   },
   "outputs": [
    {
     "name": "stderr",
     "output_type": "stream",
     "text": [
      "Using gpu device 0: GRID K520 (CNMeM is disabled, cuDNN Version is too old. Update to v5, was 3007.)\n"
     ]
    }
   ],
   "source": [
    "from hw2b import load_data, LogisticRegression, HiddenLayer, MLP, myMLP, test_mlp"
   ]
  },
  {
   "cell_type": "code",
   "execution_count": 5,
   "metadata": {
    "collapsed": true
   },
   "outputs": [],
   "source": [
    "import theano.tensor as T"
   ]
  },
  {
   "cell_type": "code",
   "execution_count": 6,
   "metadata": {
    "collapsed": false
   },
   "outputs": [
    {
     "name": "stdout",
     "output_type": "stream",
     "text": [
      "... loading data\n",
      "... building the model\n",
      "... training\n",
      "Optimization complete. Best validation score of 81.161202 % obtained at iteration 3296, with test performance 80.415065 %\n"
     ]
    },
    {
     "name": "stderr",
     "output_type": "stream",
     "text": [
      "The code for file hw2b.py ran for 1.23m\n"
     ]
    }
   ],
   "source": [
    "test_mlp(n_epochs=1000, num_hidden_layers=2, activation=T.nnet.softmax)"
   ]
  },
  {
   "cell_type": "code",
   "execution_count": 7,
   "metadata": {
    "collapsed": false
   },
   "outputs": [
    {
     "name": "stdout",
     "output_type": "stream",
     "text": [
      "... loading data\n",
      "... building the model\n",
      "... training\n",
      "Optimization complete. Best validation score of 16.557377 % obtained at iteration 276864, with test performance 18.489623 %\n"
     ]
    },
    {
     "name": "stderr",
     "output_type": "stream",
     "text": [
      "The code for file hw2b.py ran for 46.20m\n"
     ]
    }
   ],
   "source": [
    "test_mlp(n_epochs=1000, num_hidden_layers=2, activation=T.tanh)"
   ]
  },
  {
   "cell_type": "markdown",
   "metadata": {},
   "source": [
    "Discuss test accuracy results and what you discover."
   ]
  },
  {
   "cell_type": "markdown",
   "metadata": {},
   "source": [
    "Using softmax causes very low performance, which can be infered from bad test performance. Tanh however, under the same parameters, has relatively much better test performance. \n",
    "Considere the property of softmax and its loss function gradient. In classification, it sort of \"pushes up\" what it believes is the correct prediction's probability and \"suppresses\" other choices. Judging from this perspective, in each layer the distribution of probability might be  extremely uneven due to this property. So the incorrectness will pass down to the output, resulting in bad performance."
   ]
  },
  {
   "cell_type": "markdown",
   "metadata": {},
   "source": [
    "### Problem b: Bullet 3: Experiment with the number of hidden layers"
   ]
  },
  {
   "cell_type": "code",
   "execution_count": 32,
   "metadata": {
    "collapsed": true
   },
   "outputs": [
    {
     "name": "stdout",
     "output_type": "stream",
     "text": [
      "1\n",
      "... loading data\n",
      "... building the model\n",
      "... training\n",
      "Optimization complete. Best validation score of 21.420765 % obtained at iteration 510880, with test performance 23.681783 %\n",
      "3\n",
      "... loading data\n",
      "... building the model\n",
      "... training\n",
      "Optimization complete. Best validation score of 15.560109 % obtained at iteration 1163488, with test performance 17.747886 %"
     ]
    },
    {
     "name": "stderr",
     "output_type": "stream",
     "text": [
      "The code for file hw2b_test.py ran for 61.88m\n",
      "The code for file hw2b_test.py ran for 154.78m"
     ]
    },
    {
     "name": "stdout",
     "output_type": "stream",
     "text": [
      "\n",
      "5\n",
      "... loading data\n",
      "... building the model\n",
      "... training\n",
      "Optimization complete. Best validation score of 17.185792 % obtained at iteration 207648, with test performance 19.127594 %"
     ]
    },
    {
     "name": "stderr",
     "output_type": "stream",
     "text": [
      "\n",
      "The code for file hw2b_test.py ran for 34.20m"
     ]
    },
    {
     "name": "stdout",
     "output_type": "stream",
     "text": [
      "\n",
      "7\n",
      "... loading data\n",
      "... building the model\n",
      "... training\n",
      "Optimization complete. Best validation score of 15.628415 % obtained at iteration 1140416, with test performance 18.005380 %"
     ]
    },
    {
     "name": "stderr",
     "output_type": "stream",
     "text": [
      "\n",
      "The code for file hw2b_test.py ran for 204.63m"
     ]
    },
    {
     "name": "stdout",
     "output_type": "stream",
     "text": [
      "\n"
     ]
    },
    {
     "name": "stderr",
     "output_type": "stream",
     "text": [
      "\n"
     ]
    }
   ],
   "source": [
    "for i in [1,3,5,7]:\n",
    "    print(i)\n",
    "    test_mlp(L1_reg=0.00005,num_hidden_layers=i,activation=T.tanh)"
   ]
  },
  {
   "cell_type": "markdown",
   "metadata": {},
   "source": [
    "Plot the result (reproducing Figure 1)"
   ]
  },
  {
   "cell_type": "code",
   "execution_count": 28,
   "metadata": {
    "collapsed": false
   },
   "outputs": [
    {
     "data": {
      "text/plain": [
       "<matplotlib.text.Text at 0x7f6e305d5390>"
      ]
     },
     "execution_count": 28,
     "metadata": {},
     "output_type": "execute_result"
    },
    {
     "data": {
      "image/png": "[encoded data removed]",
      "text/plain": [
       "<matplotlib.figure.Figure at 0x7f6e3046cc90>"
      ]
     },
     "metadata": {},
     "output_type": "display_data"
    }
   ],
   "source": [
    "test_performance=[23.681783, 17.747886, 19.127594, 18.005380]\n",
    "test_accuracy=[100-i for i in test_performance]\n",
    "plt.plot([1,3,5,7],test_accuracy,'.-',ms=10)\n",
    "plt.gca().set_xlim((0,8))\n",
    "plt.xlabel('Number of Layers')\n",
    "plt.ylabel('Test Accuracy [%]')\n",
    "plt.title('MLP on SVHN dataset')"
   ]
  },
  {
   "cell_type": "markdown",
   "metadata": {},
   "source": [
    "Document the choice of parameters, and discuss what you discover."
   ]
  },
  {
   "cell_type": "markdown",
   "metadata": {
    "collapsed": true
   },
   "source": [
    "L1_reg=0.00005\n",
    "L2_reg=0.0001\n",
    "n_epochs=500 (1000 is time consuming so I change it in order to save time, as long as it doesn't affect the results much)\n",
    "number of neurons in each layer=500\n",
    "batch_size=20\n",
    "activation=tanh\n",
    "\n",
    "Discussion:\n",
    "When I tried to tune the parameters I set L1_reg to be 0.00005 to see what would happen. I found that the optimization runs generally faster without L1_reg. Previously I also used n_epoch=1000 for better result, but it proved to be very time consuming, so I half-sized it, and I don't see much change.\n",
    "The figure I plotted is slightly different than given in the homework instructions. To be specific, 3-layer result is better than any other. I think it might be the result of L1_reg. 7 layers perform better than 5 layers, which could possibly prove that increasing the number of layers could potentially increase performance. \n",
    "In all every point is within the expected result range of 3%-4%."
   ]
  },
  {
   "cell_type": "markdown",
   "metadata": {},
   "source": [
    "### Problem b: Bullet 4: Experiment with the number of hidden layers, but fix the total number of neurons"
   ]
  },
  {
   "cell_type": "code",
   "execution_count": 12,
   "metadata": {
    "collapsed": false
   },
   "outputs": [
    {
     "name": "stdout",
     "output_type": "stream",
     "text": [
      "... loading data\n",
      "... building the model\n",
      "... training\n",
      "Optimization complete. Best validation score of 22.773224 % obtained at iteration 118656, with test performance 24.853958 %\n"
     ]
    },
    {
     "name": "stderr",
     "output_type": "stream",
     "text": [
      "The code for file hw2b_test.py ran for 34.65m\n"
     ]
    }
   ],
   "source": [
    "hw2b_test.test_mlp(n_epochs=500,n_hidden=[840],num_hidden_layers=1)"
   ]
  },
  {
   "cell_type": "code",
   "execution_count": 14,
   "metadata": {
    "collapsed": false
   },
   "outputs": [
    {
     "name": "stdout",
     "output_type": "stream",
     "text": [
      "... loading data\n",
      "... building the model\n",
      "... training\n",
      "Optimization complete. Best validation score of 16.612022 % obtained at iteration 464736, with test performance 19.185242 %\n"
     ]
    },
    {
     "name": "stderr",
     "output_type": "stream",
     "text": [
      "The code for file hw2b_test.py ran for 48.49m\n"
     ]
    }
   ],
   "source": [
    "hw2b_test.test_mlp(n_epochs=500,n_hidden=[420,420],num_hidden_layers=2)"
   ]
  },
  {
   "cell_type": "code",
   "execution_count": 16,
   "metadata": {
    "collapsed": false
   },
   "outputs": [
    {
     "name": "stdout",
     "output_type": "stream",
     "text": [
      "... loading data\n",
      "... building the model\n",
      "... training\n",
      "Optimization complete. Best validation score of 15.341530 % obtained at iteration 1631520, with test performance 18.412759 %\n"
     ]
    },
    {
     "name": "stderr",
     "output_type": "stream",
     "text": [
      "The code for file hw2b_test.py ran for 121.67m\n"
     ]
    }
   ],
   "source": [
    "hw2b_test.test_mlp(n_epochs=500,n_hidden=[280,280,280],num_hidden_layers=3)"
   ]
  },
  {
   "cell_type": "code",
   "execution_count": 19,
   "metadata": {
    "collapsed": false
   },
   "outputs": [
    {
     "name": "stdout",
     "output_type": "stream",
     "text": [
      "... loading data\n",
      "... building the model\n",
      "... training\n",
      "Optimization complete. Best validation score of 15.573770 % obtained at iteration 1354656, with test performance 18.420446 %\n"
     ]
    },
    {
     "name": "stderr",
     "output_type": "stream",
     "text": [
      "The code for file hw2b_test.py ran for 124.10m\n"
     ]
    }
   ],
   "source": [
    "hw2b_test.test_mlp(n_epochs=500,n_hidden=[210,210,210,210],num_hidden_layers=4)"
   ]
  },
  {
   "cell_type": "code",
   "execution_count": 20,
   "metadata": {
    "collapsed": false
   },
   "outputs": [
    {
     "name": "stdout",
     "output_type": "stream",
     "text": [
      "... loading data\n",
      "... building the model\n",
      "... training\n",
      "Optimization complete. Best validation score of 16.530055 % obtained at iteration 1470016, with test performance 19.100692 %\n"
     ]
    },
    {
     "name": "stderr",
     "output_type": "stream",
     "text": [
      "The code for file hw2b_test.py ran for 104.84m\n"
     ]
    }
   ],
   "source": [
    "hw2b_test.test_mlp(n_epochs=500,n_hidden=[168,168,168,168,168],num_hidden_layers=5)"
   ]
  },
  {
   "cell_type": "code",
   "execution_count": 21,
   "metadata": {
    "collapsed": false
   },
   "outputs": [
    {
     "name": "stdout",
     "output_type": "stream",
     "text": [
      "... loading data\n",
      "... building the model\n",
      "... training\n",
      "Optimization complete. Best validation score of 16.543716 % obtained at iteration 1595264, with test performance 19.696387 %\n"
     ]
    },
    {
     "name": "stderr",
     "output_type": "stream",
     "text": [
      "The code for file hw2b_test.py ran for 105.16m\n"
     ]
    }
   ],
   "source": [
    "hw2b_test.test_mlp(n_epochs=500,n_hidden=[140,140,140,140,140,140],num_hidden_layers=6)"
   ]
  },
  {
   "cell_type": "markdown",
   "metadata": {},
   "source": [
    "Plot the result (reproducing Figure 2)"
   ]
  },
  {
   "cell_type": "code",
   "execution_count": 38,
   "metadata": {
    "collapsed": false
   },
   "outputs": [
    {
     "data": {
      "text/plain": [
       "<matplotlib.text.Text at 0x7f6e14114110>"
      ]
     },
     "execution_count": 38,
     "metadata": {},
     "output_type": "execute_result"
    },
    {
     "data": {
      "image/png": "[encoded data removed]",
      "text/plain": [
       "<matplotlib.figure.Figure at 0x7f6e141aa0d0>"
      ]
     },
     "metadata": {},
     "output_type": "display_data"
    }
   ],
   "source": [
    "test_performance=[24.853958, 19.185242, 18.412759, 18.420446, 19.100692, 19.696387]\n",
    "test_accuracy=[100-i for i in test_performance]\n",
    "plt.plot([1,2,3,4,5,6],test_accuracy,'.-',ms=10)\n",
    "plt.gca().set_xlim((0,8))\n",
    "plt.xlabel('Number of Layers')\n",
    "plt.ylabel('Test Accuracy [%]')\n",
    "plt.title('Effect of Number of Layers \\n Total Number of Neurons in Hidden Layers is fixed to 840')"
   ]
  },
  {
   "cell_type": "markdown",
   "metadata": {},
   "source": [
    "Document the choice of parameters, and discuss what you discover."
   ]
  },
  {
   "cell_type": "markdown",
   "metadata": {
    "collapsed": true
   },
   "source": [
    "Total number of neurons: 840, L1_reg=0.0, L2_reg=0.0001, n_epochs=500\n",
    "\n",
    "Discussion:\n",
    "The result resembles the picture given in the instructions except for some minor differences. The first layer achieved lower test accuracy, and the decrease trend doesn't seem so sharp, which I think are due to reduced epochs I used. Increasing the epochs might achieve some better results. When total nunmber of neurons is fixed, changing each layer's number of neurons causes a trade-off between number of layers and each layer's numer of neurons. Theoretically increasing layers or each layer's neurons would cause better optimization. So in practice we should consider the problem and choose the best number of layers and neurons. This might introduce a lot ot tuning process."
   ]
  },
  {
   "cell_type": "markdown",
   "metadata": {},
   "source": [
    "### Problem b: Bullet 5: Experiment with the number of neurons in hidden layers, but fix the number of hidden layers"
   ]
  },
  {
   "cell_type": "code",
   "execution_count": 22,
   "metadata": {
    "collapsed": false,
    "scrolled": false
   },
   "outputs": [
    {
     "name": "stdout",
     "output_type": "stream",
     "text": [
      "... loading data\n",
      "... building the model\n",
      "... training\n",
      "Optimization complete. Best validation score of 19.521858 % obtained at iteration 372448, with test performance 21.675634 %\n"
     ]
    },
    {
     "name": "stderr",
     "output_type": "stream",
     "text": [
      "The code for file hw2b_test.py ran for 29.08m\n"
     ]
    }
   ],
   "source": [
    "hw2b_test.test_mlp(n_epochs=500,n_hidden=[300],num_hidden_layers=1)"
   ]
  },
  {
   "cell_type": "code",
   "execution_count": 23,
   "metadata": {
    "collapsed": false
   },
   "outputs": [
    {
     "name": "stdout",
     "output_type": "stream",
     "text": [
      "... loading data\n",
      "... building the model\n",
      "... training\n",
      "Optimization complete. Best validation score of 19.863388 % obtained at iteration 369152, with test performance 21.702537 %\n"
     ]
    },
    {
     "name": "stderr",
     "output_type": "stream",
     "text": [
      "The code for file hw2b_test.py ran for 47.11m\n"
     ]
    }
   ],
   "source": [
    "hw2b_test.test_mlp(n_epochs=500,n_hidden=[500],num_hidden_layers=1)"
   ]
  },
  {
   "cell_type": "code",
   "execution_count": 24,
   "metadata": {
    "collapsed": false,
    "scrolled": true
   },
   "outputs": [
    {
     "name": "stdout",
     "output_type": "stream",
     "text": [
      "... loading data\n",
      "... building the model\n",
      "... training\n",
      "Optimization complete. Best validation score of 22.281421 % obtained at iteration 128544, with test performance 24.215988 %\n"
     ]
    },
    {
     "name": "stderr",
     "output_type": "stream",
     "text": [
      "The code for file hw2b_test.py ran for 28.24m\n"
     ]
    }
   ],
   "source": [
    "hw2b_test.test_mlp(n_epochs=500,n_hidden=[700],num_hidden_layers=1)"
   ]
  },
  {
   "cell_type": "code",
   "execution_count": 25,
   "metadata": {
    "collapsed": false
   },
   "outputs": [
    {
     "name": "stdout",
     "output_type": "stream",
     "text": [
      "... loading data\n",
      "... building the model\n",
      "... training\n",
      "Optimization complete. Best validation score of 18.251366 % obtained at iteration 441664, with test performance 20.376633 %\n"
     ]
    },
    {
     "name": "stderr",
     "output_type": "stream",
     "text": [
      "The code for file hw2b_test.py ran for 84.58m\n"
     ]
    }
   ],
   "source": [
    "hw2b_test.test_mlp(n_epochs=500,n_hidden=[900],num_hidden_layers=1)"
   ]
  },
  {
   "cell_type": "code",
   "execution_count": 26,
   "metadata": {
    "collapsed": false
   },
   "outputs": [
    {
     "name": "stdout",
     "output_type": "stream",
     "text": [
      "... loading data\n",
      "... building the model\n",
      "... training\n",
      "Optimization complete. Best validation score of 19.521858 % obtained at iteration 468032, with test performance 21.717909 %\n"
     ]
    },
    {
     "name": "stderr",
     "output_type": "stream",
     "text": [
      "The code for file hw2b_test.py ran for 121.78m\n"
     ]
    }
   ],
   "source": [
    "hw2b_test.test_mlp(n_epochs=500,n_hidden=[1100],num_hidden_layers=1)"
   ]
  },
  {
   "cell_type": "markdown",
   "metadata": {},
   "source": [
    "Plot the result (reproducing Figure 3)"
   ]
  },
  {
   "cell_type": "code",
   "execution_count": 40,
   "metadata": {
    "collapsed": false
   },
   "outputs": [
    {
     "data": {
      "text/plain": [
       "<matplotlib.text.Text at 0x7f6e0d7fa150>"
      ]
     },
     "execution_count": 40,
     "metadata": {},
     "output_type": "execute_result"
    },
    {
     "data": {
      "image/png": "[encoded data removed]",
      "text/plain": [
       "<matplotlib.figure.Figure at 0x7f6e140c6810>"
      ]
     },
     "metadata": {},
     "output_type": "display_data"
    }
   ],
   "source": [
    "test_performance=[21.675634, 21.702537, 24.215988, 20.376633, 21.717909]\n",
    "test_accuracy=[100-i for i in test_performance]\n",
    "plt.plot([300,500,700,900,1100],test_accuracy,'.-',ms=10)\n",
    "plt.gca().set_xlim((200,1200))\n",
    "plt.xlabel('Number of Layers')\n",
    "plt.ylabel('Test Accuracy [%]')\n",
    "plt.title('Effect of Number of Neurons in Hidden Layer \\n The MLP contains 1 Hidden Layer')"
   ]
  },
  {
   "cell_type": "markdown",
   "metadata": {},
   "source": [
    "Document the choice of parameters, and discuss what you discover."
   ]
  },
  {
   "cell_type": "markdown",
   "metadata": {
    "collapsed": true
   },
   "source": [
    "Number of neurons in each test: 300,500,700,900,1100\n",
    "n_epochs: 500\n",
    "number of hidden layers: 1\n",
    "L1_reg: 0.0\n",
    "L2_reg: 0.0001\n",
    "\n",
    "Discussion: Due to limited number of tests, the result might not show very information. Although I need to tune more about the number of neurons to test the MLP, generally speaking, increasing number of neurons might give out better result. But since the number of layers is limited to one, we can expect that the optimization would decrease, because one single layer isn't enough to extract features that are needed for better performance. In my test, 700 neurons in a layer caused a significant drop, which kind of corredponds to the example given in the homework instructions. "
   ]
  },
  {
   "cell_type": "markdown",
   "metadata": {},
   "source": [
    "### Problem c: Bullet 1: Implement MLP(with dropout) with the parameters specified"
   ]
  },
  {
   "cell_type": "code",
   "execution_count": 29,
   "metadata": {
    "collapsed": false
   },
   "outputs": [],
   "source": [
    "from hw2c_test import load_data, LogisticRegression, DropoutHiddenLayer, test_mlp_dropout"
   ]
  },
  {
   "cell_type": "code",
   "execution_count": 32,
   "metadata": {
    "collapsed": false
   },
   "outputs": [
    {
     "name": "stdout",
     "output_type": "stream",
     "text": [
      "... loading data\n",
      "... building the model\n",
      "... training\n",
      "Optimization complete. Best validation score of 13.237705 % obtained at iteration 1483200, with test performance 14.727133 %\n"
     ]
    },
    {
     "name": "stderr",
     "output_type": "stream",
     "text": [
      "The code for file hw2c_test.py ran for 210.57m\n"
     ]
    },
    {
     "data": {
      "text/plain": [
       "0.14727132974634899"
      ]
     },
     "execution_count": 32,
     "metadata": {},
     "output_type": "execute_result"
    }
   ],
   "source": [
    "test_mlp_dropout(learning_rate=0.01, L1_reg=0, L2_reg=0.0001, n_epochs=500,\n",
    "             batch_size=20, n_hidden=[500,500], verbose=False, p=0.7)"
   ]
  },
  {
   "cell_type": "markdown",
   "metadata": {},
   "source": [
    "### Problem c: Bullet 2: Implement MLP(without dropout) with the parameters specified"
   ]
  },
  {
   "cell_type": "code",
   "execution_count": 33,
   "metadata": {
    "collapsed": false
   },
   "outputs": [
    {
     "name": "stdout",
     "output_type": "stream",
     "text": [
      "... loading data\n",
      "... building the model\n",
      "... training\n",
      "Optimization complete. Best validation score of 16.967213 % obtained at iteration 336192, with test performance 19.285165 %\n"
     ]
    },
    {
     "name": "stderr",
     "output_type": "stream",
     "text": [
      "The code for file hw2c_test.py ran for 48.03m\n"
     ]
    },
    {
     "data": {
      "text/plain": [
       "0.19285165257494233"
      ]
     },
     "execution_count": 33,
     "metadata": {},
     "output_type": "execute_result"
    }
   ],
   "source": [
    "test_mlp_dropout(learning_rate=0.01, L1_reg=0, L2_reg=0.0001, n_epochs=500,\n",
    "             batch_size=20, n_hidden=[500,500], verbose=False, p=1)"
   ]
  },
  {
   "cell_type": "markdown",
   "metadata": {},
   "source": [
    "### Problem c: Bullet 2: Compare the two cases"
   ]
  },
  {
   "cell_type": "markdown",
   "metadata": {
    "collapsed": true
   },
   "source": [
    "Under the same parameters, the dropout MLP performs better than the traditional MLP. Introducing a probability prevents the system from overfitting so has increased capacity for generalisation. This explains why the drop out MLP achieves better performance on the test set."
   ]
  }
 ],
 "metadata": {
  "kernelspec": {
   "display_name": "Python 2",
   "language": "python",
   "name": "python2"
  },
  "language_info": {
   "codemirror_mode": {
    "name": "ipython",
    "version": 2
   },
   "file_extension": ".py",
   "mimetype": "text/x-python",
   "name": "python",
   "nbconvert_exporter": "python",
   "pygments_lexer": "ipython2",
   "version": "2.7.11"
  }
 },
 "nbformat": 4,
 "nbformat_minor": 0
}
